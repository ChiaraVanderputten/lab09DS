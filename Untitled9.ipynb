{
  "nbformat": 4,
  "nbformat_minor": 0,
  "metadata": {
    "colab": {
      "name": "Untitled9.ipynb",
      "provenance": [],
      "authorship_tag": "ABX9TyPggydRSuHzQtaV9/+7rqQD",
      "include_colab_link": true
    },
    "kernelspec": {
      "name": "python3",
      "display_name": "Python 3"
    },
    "language_info": {
      "name": "python"
    }
  },
  "cells": [
    {
      "cell_type": "markdown",
      "metadata": {
        "id": "view-in-github",
        "colab_type": "text"
      },
      "source": [
        "<a href=\"https://colab.research.google.com/github/ChiaraVanderputten/lab09DS/blob/main/Untitled9.ipynb\" target=\"_parent\"><img src=\"https://colab.research.google.com/assets/colab-badge.svg\" alt=\"Open In Colab\"/></a>"
      ]
    },
    {
      "cell_type": "markdown",
      "metadata": {
        "id": "rQk-UB-UcFpj"
      },
      "source": [
        "#2.1"
      ]
    },
    {
      "cell_type": "code",
      "metadata": {
        "colab": {
          "base_uri": "https://localhost:8080/",
          "height": 664
        },
        "id": "X-4Kmh8wcJy3",
        "outputId": "eac6533e-444b-40a1-e8a3-d5cb9481087c"
      },
      "source": [
        "import pandas as pd\n",
        "import numpy as np\n",
        "\n",
        "ev = pd.read_csv(\"evaluation.csv\")\n",
        "dev = pd.read_csv(\"development.csv\")\n",
        "sub = pd.read_csv(\"sample_submission.csv\")\n",
        "\n",
        "ev.info()\n",
        "# neighbourhood_group\t neighbourhood\tlatitude\tlongitude room_type price\n",
        "\n",
        "import matplotlib\n",
        "import matplotlib.pyplot as pp\n",
        "%matplotlib inline\n",
        "\n",
        "dev['price'].plot(kind='hist')\n",
        "\n"
      ],
      "execution_count": 30,
      "outputs": [
        {
          "output_type": "stream",
          "name": "stdout",
          "text": [
            "<class 'pandas.core.frame.DataFrame'>\n",
            "RangeIndex: 9779 entries, 0 to 9778\n",
            "Data columns (total 15 columns):\n",
            " #   Column                          Non-Null Count  Dtype  \n",
            "---  ------                          --------------  -----  \n",
            " 0   id                              9779 non-null   int64  \n",
            " 1   name                            9776 non-null   object \n",
            " 2   host_id                         9779 non-null   int64  \n",
            " 3   host_name                       9777 non-null   object \n",
            " 4   neighbourhood_group             9779 non-null   object \n",
            " 5   neighbourhood                   9779 non-null   object \n",
            " 6   latitude                        9779 non-null   float64\n",
            " 7   longitude                       9779 non-null   float64\n",
            " 8   room_type                       9779 non-null   object \n",
            " 9   minimum_nights                  9779 non-null   int64  \n",
            " 10  number_of_reviews               9779 non-null   int64  \n",
            " 11  last_review                     7768 non-null   object \n",
            " 12  reviews_per_month               7768 non-null   float64\n",
            " 13  calculated_host_listings_count  9779 non-null   int64  \n",
            " 14  availability_365                9779 non-null   int64  \n",
            "dtypes: float64(3), int64(6), object(6)\n",
            "memory usage: 1.1+ MB\n"
          ]
        },
        {
          "output_type": "execute_result",
          "data": {
            "text/plain": [
              "<matplotlib.axes._subplots.AxesSubplot at 0x7f953c4cf150>"
            ]
          },
          "metadata": {},
          "execution_count": 30
        },
        {
          "output_type": "display_data",
          "data": {
            "image/png": "[encoded data removed]",
            "text/plain": [
              "<Figure size 432x288 with 1 Axes>"
            ]
          },
          "metadata": {
            "needs_background": "light"
          }
        }
      ]
    }
  ]
}